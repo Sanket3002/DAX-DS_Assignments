{
 "cells": [
  {
   "cell_type": "markdown",
   "id": "8808bff9-0eed-4dd4-ae95-d5372736848b",
   "metadata": {},
   "source": [
    "# Python/Data Visualization/Feature Engineering  Assignment"
   ]
  },
  {
   "cell_type": "code",
   "execution_count": 1,
   "id": "48f49fbc-e102-4d6a-aee7-8568826a0061",
   "metadata": {},
   "outputs": [],
   "source": [
    "import pandas as pd\n",
    "import numpy as np\n",
    "import matplotlib.pyplot as plt\n",
    "import seaborn as sns\n",
    "from sklearn.preprocessing import StandardScaler,MinMaxScaler,LabelEncoder"
   ]
  },
  {
   "cell_type": "markdown",
   "id": "6f555e71-7350-404b-a255-46aa3c7c85e0",
   "metadata": {},
   "source": [
    "## Load csv file in notebook using python code "
   ]
  },
  {
   "cell_type": "code",
   "execution_count": 2,
   "id": "fa217dfc-cae3-4637-81e5-2285f310a875",
   "metadata": {},
   "outputs": [],
   "source": [
    "df = pd.read_csv(\"healthcare-dataset-stroke-data.csv\")"
   ]
  },
  {
   "cell_type": "markdown",
   "id": "af97d44c-0749-42de-8047-3050daa08e30",
   "metadata": {},
   "source": [
    "## Explore Data using python code "
   ]
  },
  {
   "cell_type": "markdown",
   "id": "1131ac98-b04d-4ab1-ac0e-cfed96607c12",
   "metadata": {},
   "source": [
    "**Total Records**"
   ]
  },
  {
   "cell_type": "code",
   "execution_count": 3,
   "id": "e9999d4b-e901-4333-8e66-360fb44e610b",
   "metadata": {},
   "outputs": [
    {
     "data": {
      "text/plain": [
       "(5110, 12)"
      ]
     },
     "execution_count": 3,
     "metadata": {},
     "output_type": "execute_result"
    }
   ],
   "source": [
    "df.shape"
   ]
  },
  {
   "cell_type": "code",
   "execution_count": 4,
   "id": "0d668e11-76b9-431b-8d56-b86c6b4ce248",
   "metadata": {},
   "outputs": [
    {
     "data": {
      "text/html": [
       "<div>\n",
       "<style scoped>\n",
       "    .dataframe tbody tr th:only-of-type {\n",
       "        vertical-align: middle;\n",
       "    }\n",
       "\n",
       "    .dataframe tbody tr th {\n",
       "        vertical-align: top;\n",
       "    }\n",
       "\n",
       "    .dataframe thead th {\n",
       "        text-align: right;\n",
       "    }\n",
       "</style>\n",
       "<table border=\"1\" class=\"dataframe\">\n",
       "  <thead>\n",
       "    <tr style=\"text-align: right;\">\n",
       "      <th></th>\n",
       "      <th>id</th>\n",
       "      <th>gender</th>\n",
       "      <th>age</th>\n",
       "      <th>hypertension</th>\n",
       "      <th>heart_disease</th>\n",
       "      <th>ever_married</th>\n",
       "      <th>work_type</th>\n",
       "      <th>Residence_type</th>\n",
       "      <th>avg_glucose_level</th>\n",
       "      <th>bmi</th>\n",
       "      <th>smoking_status</th>\n",
       "      <th>stroke</th>\n",
       "    </tr>\n",
       "  </thead>\n",
       "  <tbody>\n",
       "    <tr>\n",
       "      <th>0</th>\n",
       "      <td>9046</td>\n",
       "      <td>Male</td>\n",
       "      <td>67.0</td>\n",
       "      <td>0</td>\n",
       "      <td>1</td>\n",
       "      <td>Yes</td>\n",
       "      <td>Private</td>\n",
       "      <td>Urban</td>\n",
       "      <td>228.69</td>\n",
       "      <td>36.6</td>\n",
       "      <td>formerly smoked</td>\n",
       "      <td>1</td>\n",
       "    </tr>\n",
       "    <tr>\n",
       "      <th>1</th>\n",
       "      <td>51676</td>\n",
       "      <td>Female</td>\n",
       "      <td>61.0</td>\n",
       "      <td>0</td>\n",
       "      <td>0</td>\n",
       "      <td>Yes</td>\n",
       "      <td>Self-employed</td>\n",
       "      <td>Rural</td>\n",
       "      <td>202.21</td>\n",
       "      <td>NaN</td>\n",
       "      <td>never smoked</td>\n",
       "      <td>1</td>\n",
       "    </tr>\n",
       "    <tr>\n",
       "      <th>2</th>\n",
       "      <td>31112</td>\n",
       "      <td>Male</td>\n",
       "      <td>80.0</td>\n",
       "      <td>0</td>\n",
       "      <td>1</td>\n",
       "      <td>Yes</td>\n",
       "      <td>Private</td>\n",
       "      <td>Rural</td>\n",
       "      <td>105.92</td>\n",
       "      <td>32.5</td>\n",
       "      <td>never smoked</td>\n",
       "      <td>1</td>\n",
       "    </tr>\n",
       "    <tr>\n",
       "      <th>3</th>\n",
       "      <td>60182</td>\n",
       "      <td>Female</td>\n",
       "      <td>49.0</td>\n",
       "      <td>0</td>\n",
       "      <td>0</td>\n",
       "      <td>Yes</td>\n",
       "      <td>Private</td>\n",
       "      <td>Urban</td>\n",
       "      <td>171.23</td>\n",
       "      <td>34.4</td>\n",
       "      <td>smokes</td>\n",
       "      <td>1</td>\n",
       "    </tr>\n",
       "    <tr>\n",
       "      <th>4</th>\n",
       "      <td>1665</td>\n",
       "      <td>Female</td>\n",
       "      <td>79.0</td>\n",
       "      <td>1</td>\n",
       "      <td>0</td>\n",
       "      <td>Yes</td>\n",
       "      <td>Self-employed</td>\n",
       "      <td>Rural</td>\n",
       "      <td>174.12</td>\n",
       "      <td>24.0</td>\n",
       "      <td>never smoked</td>\n",
       "      <td>1</td>\n",
       "    </tr>\n",
       "  </tbody>\n",
       "</table>\n",
       "</div>"
      ],
      "text/plain": [
       "      id  gender   age  hypertension  heart_disease ever_married  \\\n",
       "0   9046    Male  67.0             0              1          Yes   \n",
       "1  51676  Female  61.0             0              0          Yes   \n",
       "2  31112    Male  80.0             0              1          Yes   \n",
       "3  60182  Female  49.0             0              0          Yes   \n",
       "4   1665  Female  79.0             1              0          Yes   \n",
       "\n",
       "       work_type Residence_type  avg_glucose_level   bmi   smoking_status  \\\n",
       "0        Private          Urban             228.69  36.6  formerly smoked   \n",
       "1  Self-employed          Rural             202.21   NaN     never smoked   \n",
       "2        Private          Rural             105.92  32.5     never smoked   \n",
       "3        Private          Urban             171.23  34.4           smokes   \n",
       "4  Self-employed          Rural             174.12  24.0     never smoked   \n",
       "\n",
       "   stroke  \n",
       "0       1  \n",
       "1       1  \n",
       "2       1  \n",
       "3       1  \n",
       "4       1  "
      ]
     },
     "execution_count": 4,
     "metadata": {},
     "output_type": "execute_result"
    }
   ],
   "source": [
    "df.head()"
   ]
  },
  {
   "cell_type": "code",
   "execution_count": 5,
   "id": "5254d48a-c115-460c-b7ce-1818bbe2ffda",
   "metadata": {},
   "outputs": [
    {
     "data": {
      "text/html": [
       "<div>\n",
       "<style scoped>\n",
       "    .dataframe tbody tr th:only-of-type {\n",
       "        vertical-align: middle;\n",
       "    }\n",
       "\n",
       "    .dataframe tbody tr th {\n",
       "        vertical-align: top;\n",
       "    }\n",
       "\n",
       "    .dataframe thead th {\n",
       "        text-align: right;\n",
       "    }\n",
       "</style>\n",
       "<table border=\"1\" class=\"dataframe\">\n",
       "  <thead>\n",
       "    <tr style=\"text-align: right;\">\n",
       "      <th></th>\n",
       "      <th>id</th>\n",
       "      <th>age</th>\n",
       "      <th>hypertension</th>\n",
       "      <th>heart_disease</th>\n",
       "      <th>avg_glucose_level</th>\n",
       "      <th>bmi</th>\n",
       "      <th>stroke</th>\n",
       "    </tr>\n",
       "  </thead>\n",
       "  <tbody>\n",
       "    <tr>\n",
       "      <th>count</th>\n",
       "      <td>5110.000000</td>\n",
       "      <td>5110.000000</td>\n",
       "      <td>5110.000000</td>\n",
       "      <td>5110.000000</td>\n",
       "      <td>5110.000000</td>\n",
       "      <td>4909.000000</td>\n",
       "      <td>5110.000000</td>\n",
       "    </tr>\n",
       "    <tr>\n",
       "      <th>mean</th>\n",
       "      <td>36517.829354</td>\n",
       "      <td>43.226614</td>\n",
       "      <td>0.097456</td>\n",
       "      <td>0.054012</td>\n",
       "      <td>106.147677</td>\n",
       "      <td>28.893237</td>\n",
       "      <td>0.048728</td>\n",
       "    </tr>\n",
       "    <tr>\n",
       "      <th>std</th>\n",
       "      <td>21161.721625</td>\n",
       "      <td>22.612647</td>\n",
       "      <td>0.296607</td>\n",
       "      <td>0.226063</td>\n",
       "      <td>45.283560</td>\n",
       "      <td>7.854067</td>\n",
       "      <td>0.215320</td>\n",
       "    </tr>\n",
       "    <tr>\n",
       "      <th>min</th>\n",
       "      <td>67.000000</td>\n",
       "      <td>0.080000</td>\n",
       "      <td>0.000000</td>\n",
       "      <td>0.000000</td>\n",
       "      <td>55.120000</td>\n",
       "      <td>10.300000</td>\n",
       "      <td>0.000000</td>\n",
       "    </tr>\n",
       "    <tr>\n",
       "      <th>25%</th>\n",
       "      <td>17741.250000</td>\n",
       "      <td>25.000000</td>\n",
       "      <td>0.000000</td>\n",
       "      <td>0.000000</td>\n",
       "      <td>77.245000</td>\n",
       "      <td>23.500000</td>\n",
       "      <td>0.000000</td>\n",
       "    </tr>\n",
       "    <tr>\n",
       "      <th>50%</th>\n",
       "      <td>36932.000000</td>\n",
       "      <td>45.000000</td>\n",
       "      <td>0.000000</td>\n",
       "      <td>0.000000</td>\n",
       "      <td>91.885000</td>\n",
       "      <td>28.100000</td>\n",
       "      <td>0.000000</td>\n",
       "    </tr>\n",
       "    <tr>\n",
       "      <th>75%</th>\n",
       "      <td>54682.000000</td>\n",
       "      <td>61.000000</td>\n",
       "      <td>0.000000</td>\n",
       "      <td>0.000000</td>\n",
       "      <td>114.090000</td>\n",
       "      <td>33.100000</td>\n",
       "      <td>0.000000</td>\n",
       "    </tr>\n",
       "    <tr>\n",
       "      <th>max</th>\n",
       "      <td>72940.000000</td>\n",
       "      <td>82.000000</td>\n",
       "      <td>1.000000</td>\n",
       "      <td>1.000000</td>\n",
       "      <td>271.740000</td>\n",
       "      <td>97.600000</td>\n",
       "      <td>1.000000</td>\n",
       "    </tr>\n",
       "  </tbody>\n",
       "</table>\n",
       "</div>"
      ],
      "text/plain": [
       "                 id          age  hypertension  heart_disease  \\\n",
       "count   5110.000000  5110.000000   5110.000000    5110.000000   \n",
       "mean   36517.829354    43.226614      0.097456       0.054012   \n",
       "std    21161.721625    22.612647      0.296607       0.226063   \n",
       "min       67.000000     0.080000      0.000000       0.000000   \n",
       "25%    17741.250000    25.000000      0.000000       0.000000   \n",
       "50%    36932.000000    45.000000      0.000000       0.000000   \n",
       "75%    54682.000000    61.000000      0.000000       0.000000   \n",
       "max    72940.000000    82.000000      1.000000       1.000000   \n",
       "\n",
       "       avg_glucose_level          bmi       stroke  \n",
       "count        5110.000000  4909.000000  5110.000000  \n",
       "mean          106.147677    28.893237     0.048728  \n",
       "std            45.283560     7.854067     0.215320  \n",
       "min            55.120000    10.300000     0.000000  \n",
       "25%            77.245000    23.500000     0.000000  \n",
       "50%            91.885000    28.100000     0.000000  \n",
       "75%           114.090000    33.100000     0.000000  \n",
       "max           271.740000    97.600000     1.000000  "
      ]
     },
     "execution_count": 5,
     "metadata": {},
     "output_type": "execute_result"
    }
   ],
   "source": [
    "df.describe()"
   ]
  },
  {
   "cell_type": "code",
   "execution_count": 6,
   "id": "0793508b-a4f7-44cb-b7f3-927800516c35",
   "metadata": {},
   "outputs": [
    {
     "name": "stdout",
     "output_type": "stream",
     "text": [
      "<class 'pandas.core.frame.DataFrame'>\n",
      "RangeIndex: 5110 entries, 0 to 5109\n",
      "Data columns (total 12 columns):\n",
      " #   Column             Non-Null Count  Dtype  \n",
      "---  ------             --------------  -----  \n",
      " 0   id                 5110 non-null   int64  \n",
      " 1   gender             5110 non-null   object \n",
      " 2   age                5110 non-null   float64\n",
      " 3   hypertension       5110 non-null   int64  \n",
      " 4   heart_disease      5110 non-null   int64  \n",
      " 5   ever_married       5110 non-null   object \n",
      " 6   work_type          5110 non-null   object \n",
      " 7   Residence_type     5110 non-null   object \n",
      " 8   avg_glucose_level  5110 non-null   float64\n",
      " 9   bmi                4909 non-null   float64\n",
      " 10  smoking_status     5110 non-null   object \n",
      " 11  stroke             5110 non-null   int64  \n",
      "dtypes: float64(3), int64(4), object(5)\n",
      "memory usage: 479.2+ KB\n"
     ]
    }
   ],
   "source": [
    "df.info()"
   ]
  },
  {
   "cell_type": "markdown",
   "id": "a64d2d5b-3a3d-44bb-a407-df001632bb69",
   "metadata": {},
   "source": [
    "**Null Count**"
   ]
  },
  {
   "cell_type": "code",
   "execution_count": 7,
   "id": "d523a1de-1c42-4bfe-8832-be68eed78fd0",
   "metadata": {},
   "outputs": [
    {
     "data": {
      "text/plain": [
       "id                     0\n",
       "gender                 0\n",
       "age                    0\n",
       "hypertension           0\n",
       "heart_disease          0\n",
       "ever_married           0\n",
       "work_type              0\n",
       "Residence_type         0\n",
       "avg_glucose_level      0\n",
       "bmi                  201\n",
       "smoking_status         0\n",
       "stroke                 0\n",
       "dtype: int64"
      ]
     },
     "execution_count": 7,
     "metadata": {},
     "output_type": "execute_result"
    }
   ],
   "source": [
    "df.isnull().sum()"
   ]
  },
  {
   "cell_type": "code",
   "execution_count": 8,
   "id": "fae4b595-de22-4c83-a4e0-e94dd9988a82",
   "metadata": {},
   "outputs": [],
   "source": [
    "numeric_columns = df.select_dtypes(include=['int64', 'float64']).columns"
   ]
  },
  {
   "cell_type": "markdown",
   "id": "3df462c5-fb15-4935-8bbe-7e8f4ab4d05f",
   "metadata": {},
   "source": [
    "**Mean**"
   ]
  },
  {
   "cell_type": "code",
   "execution_count": 9,
   "id": "262b013e-84c0-4ccb-9693-f82feb9c1966",
   "metadata": {},
   "outputs": [
    {
     "data": {
      "text/plain": [
       "id                   36517.829354\n",
       "age                     43.226614\n",
       "hypertension             0.097456\n",
       "heart_disease            0.054012\n",
       "avg_glucose_level      106.147677\n",
       "bmi                     28.893237\n",
       "stroke                   0.048728\n",
       "dtype: float64"
      ]
     },
     "execution_count": 9,
     "metadata": {},
     "output_type": "execute_result"
    }
   ],
   "source": [
    "mean_values = df[numeric_columns].mean()\n",
    "mean_values"
   ]
  },
  {
   "cell_type": "markdown",
   "id": "f15e8c7e-be0d-4ee1-8167-d5bedc9fb171",
   "metadata": {},
   "source": [
    "**Median**"
   ]
  },
  {
   "cell_type": "code",
   "execution_count": 10,
   "id": "d3752135-99b7-44dc-b682-61f268353cfc",
   "metadata": {},
   "outputs": [
    {
     "data": {
      "text/plain": [
       "id                   36932.000\n",
       "age                     45.000\n",
       "hypertension             0.000\n",
       "heart_disease            0.000\n",
       "avg_glucose_level       91.885\n",
       "bmi                     28.100\n",
       "stroke                   0.000\n",
       "dtype: float64"
      ]
     },
     "execution_count": 10,
     "metadata": {},
     "output_type": "execute_result"
    }
   ],
   "source": [
    "median_values = df[numeric_columns].median()\n",
    "median_values"
   ]
  },
  {
   "cell_type": "markdown",
   "id": "d597e6f4-5b7e-4b82-8e3e-2638a48885db",
   "metadata": {},
   "source": [
    "**Standard Deviation**"
   ]
  },
  {
   "cell_type": "code",
   "execution_count": 11,
   "id": "63ba327c-94e6-453c-818d-3687f72c567b",
   "metadata": {},
   "outputs": [
    {
     "data": {
      "text/plain": [
       "id                   21161.721625\n",
       "age                     22.612647\n",
       "hypertension             0.296607\n",
       "heart_disease            0.226063\n",
       "avg_glucose_level       45.283560\n",
       "bmi                      7.854067\n",
       "stroke                   0.215320\n",
       "dtype: float64"
      ]
     },
     "execution_count": 11,
     "metadata": {},
     "output_type": "execute_result"
    }
   ],
   "source": [
    "std_dev_values = df[numeric_columns].std()\n",
    "std_dev_values"
   ]
  },
  {
   "cell_type": "markdown",
   "id": "802abdc5-80ae-496e-b3c1-8768665a976e",
   "metadata": {},
   "source": []
  },
  {
   "cell_type": "markdown",
   "id": "78145f5d-075a-4177-9a85-64217ba80f11",
   "metadata": {},
   "source": [
    "## Bar Chart: Gender Distribution"
   ]
  },
  {
   "cell_type": "code",
   "execution_count": 12,
   "id": "956c6ba7-8a9c-4260-8c22-51f303a263b3",
   "metadata": {},
   "outputs": [
    {
     "data": {
      "text/plain": [
       "gender\n",
       "Female    2994\n",
       "Male      2115\n",
       "Other        1\n",
       "Name: count, dtype: int64"
      ]
     },
     "execution_count": 12,
     "metadata": {},
     "output_type": "execute_result"
    }
   ],
   "source": [
    "# df['gender'].unique()\n",
    "df['gender'].value_counts()"
   ]
  },
  {
   "cell_type": "code",
   "execution_count": 13,
   "id": "1f28574a-12db-4080-8fce-92e630c3da94",
   "metadata": {},
   "outputs": [
    {
     "data": {
      "image/png": "[encoded data removed]",
      "text/plain": [
       "<Figure size 400x400 with 1 Axes>"
      ]
     },
     "metadata": {},
     "output_type": "display_data"
    }
   ],
   "source": [
    "plt.figure(figsize = (4,4))\n",
    "sns.countplot(x='gender',data=df)\n",
    "plt.xlabel('Gender')\n",
    "plt.ylabel('Count')\n",
    "plt.title('Gender Distribution')\n",
    "# plt.ylim(0,100)\n",
    "plt.show()"
   ]
  },
  {
   "cell_type": "markdown",
   "id": "5c5c34a3-d504-48a7-bd4d-94aeb1cd0c52",
   "metadata": {},
   "source": [
    "Explaination: The bar chart provides a clear and Concise representation of the gender distribution in the dataset. it is evident that \"Female\" is the dominant gender category, while \"Male\" follows closely, and there is only one individual classified as \"other\"."
   ]
  },
  {
   "cell_type": "markdown",
   "id": "83bb597e-8edf-4d5e-9a21-41f4455f9166",
   "metadata": {},
   "source": [
    "## Pie Chart: Smoking Status Distribution"
   ]
  },
  {
   "cell_type": "code",
   "execution_count": 14,
   "id": "4c42f524-d6c1-4640-8e05-52273827c846",
   "metadata": {},
   "outputs": [
    {
     "data": {
      "text/plain": [
       "smoking_status\n",
       "never smoked       1892\n",
       "Unknown            1544\n",
       "formerly smoked     885\n",
       "smokes              789\n",
       "Name: count, dtype: int64"
      ]
     },
     "execution_count": 14,
     "metadata": {},
     "output_type": "execute_result"
    }
   ],
   "source": [
    "df['smoking_status'].value_counts()"
   ]
  },
  {
   "cell_type": "code",
   "execution_count": 15,
   "id": "3ed55011-52a7-4692-9ed0-5ab9af6f0b8d",
   "metadata": {},
   "outputs": [
    {
     "data": {
      "image/png": "[encoded data removed]",
      "text/plain": [
       "<Figure size 400x400 with 1 Axes>"
      ]
     },
     "metadata": {},
     "output_type": "display_data"
    }
   ],
   "source": [
    "plt.figure(figsize = (4,4))\n",
    "plt.pie(df['smoking_status'].value_counts(), labels = df['smoking_status'].value_counts().index, autopct = '%1.1f%%' )\n",
    "plt.title('Smoking Status Distribution')\n",
    "plt.show()"
   ]
  },
  {
   "cell_type": "markdown",
   "id": "a5d1b16e-d1b2-46cf-874b-82efc958d06e",
   "metadata": {},
   "source": [
    "Explaination:\n",
    "The pie chart provides an overview of the smoking status distribution in the dataset. \n",
    "The segment labeled \"Never Smoked\" (37.0%) shows that a significant proportion of individuals have never smoked.\n",
    "The largest segment, \"Unknown\" (30.2%), indicates that the dataset has the highest proportion of individuals with an unknown smoking status. This could be due to missing or incomplete data for some individuals.\r\n",
    "The \"Formerly Smoked\" segment (17.3%) represents individuals who used to smoke but hv  \\ iti .\r\n",
    "The smallest segment, \"Smokes\" (15.4%), indicates the proportion of individuals who are current smokers."
   ]
  },
  {
   "cell_type": "markdown",
   "id": "4b86629e-ffed-48b4-9c72-07ccd340f8db",
   "metadata": {},
   "source": [
    "## Line Plot with Aggregated Averages: Age vs. Average Glucose Level"
   ]
  },
  {
   "cell_type": "code",
   "execution_count": 16,
   "id": "9d8559d0-2c18-4d42-b550-192dab62159c",
   "metadata": {},
   "outputs": [
    {
     "data": {
      "text/plain": [
       "age\n",
       "0.08     105.000000\n",
       "0.16      98.006667\n",
       "0.24      94.112000\n",
       "0.32      91.004000\n",
       "0.40      97.605000\n",
       "            ...    \n",
       "78.00    119.664216\n",
       "79.00    113.806824\n",
       "80.00    119.772857\n",
       "81.00    117.180167\n",
       "82.00    130.483571\n",
       "Name: avg_glucose_level, Length: 104, dtype: float64"
      ]
     },
     "execution_count": 16,
     "metadata": {},
     "output_type": "execute_result"
    }
   ],
   "source": [
    "average_glucose_by_age = df.groupby('age')['avg_glucose_level'].mean()\n",
    "average_glucose_by_age"
   ]
  },
  {
   "cell_type": "code",
   "execution_count": 17,
   "id": "c503c0ac-c6e7-4f18-a9d0-c2dfae9454ce",
   "metadata": {},
   "outputs": [
    {
     "data": {
      "image/png": "[encoded data removed]",
      "text/plain": [
       "<Figure size 1200x600 with 1 Axes>"
      ]
     },
     "metadata": {},
     "output_type": "display_data"
    }
   ],
   "source": [
    "\n",
    "plt.figure(figsize=(12, 6))\n",
    "plt.plot(average_glucose_by_age.index, average_glucose_by_age.values, marker='o', linestyle='-')\n",
    "plt.xlabel('Age')\n",
    "plt.ylabel('Average Glucose Level')\n",
    "plt.title('Average Glucose Level by Age')\n",
    "plt.grid(True)\n",
    "plt.show()\n"
   ]
  },
  {
   "cell_type": "markdown",
   "id": "c57e156a-14b2-4a28-b315-8d3592297ad3",
   "metadata": {},
   "source": [
    "Explaination: The line plot visually summarizes the average glucose level data with respect to age. It is crucial to consider the context of the dataset and the source of the data when interpreting the plot's insights.\n",
    "The x-axis represents the \"Age\" values, ranging from 0.08 to 82.00 years, with each age being a unique value in the dataset.\r\n",
    "The y-axis represents the \"Average Glucose Level,\" showing the corresponding average glucose level for each age group.\r\n",
    "As age increases along the x-axis, the average glucose level tends to change along the y-axis.\r\n",
    "For example, at an age of 0.08 years (roughly one month old), the average glucose level is 105.000000, while at an age of 82.00 years, the average glucose level is 130.483571."
   ]
  },
  {
   "cell_type": "markdown",
   "id": "f14b930b-5815-4cb6-a214-f556cbb369a5",
   "metadata": {},
   "source": [
    "## Box Plot: Age Distribution by Stroke"
   ]
  },
  {
   "cell_type": "code",
   "execution_count": 18,
   "id": "515618ba-5341-41c2-9932-0749e526fdc2",
   "metadata": {},
   "outputs": [
    {
     "data": {
      "image/png": "[encoded data removed]",
      "text/plain": [
       "<Figure size 800x600 with 1 Axes>"
      ]
     },
     "metadata": {},
     "output_type": "display_data"
    }
   ],
   "source": [
    "plt.figure(figsize=(8, 6))\n",
    "sns.boxplot(x='stroke', y='age', data=df)\n",
    "plt.xlabel('Stroke')\n",
    "plt.ylabel('Age')\n",
    "plt.title('Age Distribution by Stroke')\n",
    "plt.show()\n"
   ]
  },
  {
   "cell_type": "markdown",
   "id": "728d12cb-3066-43a4-bcf2-e8457c0a5e63",
   "metadata": {},
   "source": [
    "Explanation: This box plot presents the distribution of ages for individuals with and without a stroke. It uses boxes to represent the interquartile range (IQR) of age for each category (stroke \"No\" or \"Yes\"). The line inside the box indicates the median age, and the whiskers extend to the minimum and maximum non-outlier values within 1.5 times the IQR. Any data points outside the whiskers are considered outliers. This visualization allows us to compare the age distribution between stroke and non-stroke groups."
   ]
  },
  {
   "cell_type": "markdown",
   "id": "7a934afc-4d0e-4187-ae80-bec267fdefc5",
   "metadata": {},
   "source": [
    "## Heatmap: Correlation Matrix"
   ]
  },
  {
   "cell_type": "code",
   "execution_count": 19,
   "id": "f25a45a4-e0bc-415b-94d5-ec2bb5cfed90",
   "metadata": {},
   "outputs": [
    {
     "name": "stdout",
     "output_type": "stream",
     "text": [
      "<class 'pandas.core.frame.DataFrame'>\n",
      "RangeIndex: 5110 entries, 0 to 5109\n",
      "Data columns (total 6 columns):\n",
      " #   Column             Non-Null Count  Dtype  \n",
      "---  ------             --------------  -----  \n",
      " 0   age                5110 non-null   float64\n",
      " 1   hypertension       5110 non-null   int64  \n",
      " 2   heart_disease      5110 non-null   int64  \n",
      " 3   avg_glucose_level  5110 non-null   float64\n",
      " 4   bmi                4909 non-null   float64\n",
      " 5   stroke             5110 non-null   int64  \n",
      "dtypes: float64(3), int64(3)\n",
      "memory usage: 239.7 KB\n"
     ]
    }
   ],
   "source": [
    "numeric_df = df.select_dtypes(include=['int64', 'float64'])\n",
    "numeric_df = numeric_df.drop(columns='id')\n",
    "numeric_df.info()"
   ]
  },
  {
   "cell_type": "code",
   "execution_count": 20,
   "id": "18c2d51e-8d8b-445b-aede-bdbdf319eb84",
   "metadata": {},
   "outputs": [
    {
     "data": {
      "image/png": "[encoded data removed]",
      "text/plain": [
       "<Figure size 1000x800 with 2 Axes>"
      ]
     },
     "metadata": {},
     "output_type": "display_data"
    }
   ],
   "source": [
    "plt.figure(figsize=(10, 8))\n",
    "sns.heatmap(numeric_df.corr(), annot=True, cmap='coolwarm')\n",
    "plt.title('Correlation Matrix')\n",
    "plt.show()"
   ]
  },
  {
   "cell_type": "markdown",
   "id": "158cdfb9-f634-4b0c-a5df-21c2e98dbd69",
   "metadata": {},
   "source": [
    "Interpretation of the Correlation Matrix:\r\n",
    "\r\n",
    "Age vs. Hypertension: The correlation coefficient between \"age\" and \"hypertension\" is 0.28. This positive correlation suggests that there is a weak positive relationship between a person's age and the likelihood of having hypertension.\r\n",
    "\r\n",
    "Age vs. Heart Disease: The correlation coefficient between \"age\" and \"heart_disease\" is 0.26. This positive correlation indicates a weak positive relationship between age and the likelihood of having heart disease.\r\n",
    "\r\n",
    "Age vs. Average Glucose Level: The correlation coefficient between \"age\" and \"avg_glucose_level\" is 0.24. This positive correlation suggests a weak positive relationship between age and the average glucose level.\r\n",
    "\r\n",
    "Age vs. BMI: The correlation coefficient between \"age\" and \"bmi\" is 0.33. This positive correlation indicates a weak positive relationship between age and body mass index (BMI).\r\n",
    "\r\n",
    "Age vs. Stroke: The correlation coefficient between \"age\" and \"stroke\" is 0.25. This positive correlation suggests a weak positive relationship between age and the likelihood of having a stroke.\r\n",
    "\r\n",
    "Hypertension vs. Heart Disease: The correlation coefficient between \"hypertension\" and \"heart_disease\" is 0.11. This positive correlation indicates a weak positive relationship between having hypertension and having heart disease.\r\n",
    "\r\n",
    "Hypertension vs. Average Glucose Level: The correlation coefficient between \"hypertension\" and \"avg_glucose_level\" is 0.17. This positive correlation suggests a weak positive relationship between hypertension and average glucose levels.\r\n",
    "\r\n",
    "Hypertension vs. BMI: The correlation coefficient between \"hypertension\" and \"bmi\" is 0.17. This positive correlation indicates a weak positive relationship between hypertension and BMI.\r\n",
    "\r\n",
    "Hypertension vs. Stroke: The correlation coefficient between \"hypertension\" and \"stroke\" is 0.13. This positive correlation suggests a weak positive relationship between hypertension and the likelihood of having a stroke.\r\n",
    "\r\n",
    "Heart Disease vs. Average Glucose Level: The correlation coefficient between \"heart_disease\" and \"avg_glucose_level\" is 0.16. This positive correlation indicates a weak positive relationship between heart disease and average glucose levels.\r\n",
    "\r\n",
    "Heart Disease vs. BMI: The correlation coefficient between \"heart_disease\" and \"bmi\" is 0.041. This positive correlation suggests a weak positive relationship between heart disease and BMI.\r\n",
    "\r\n",
    "Heart Disease vs. Stroke: The correlation coefficient between \"heart_disease\" and \"stroke\" is 0.13. This positive correlation indicates a weak positive relationship between heart disease and the likelihood of having a stroke.\r\n",
    "\r\n",
    "Average Glucose Level vs. BMI: The correlation coefficient between \"avg_glucose_level\" and \"bmi\" is 0.18. This positive correlation suggests a weak positive relationship between average glucose levels and BMI.\r\n",
    "\r\n",
    "Average Glucose Level vs. Stroke: The correlation coefficient between \"avg_glucose_level\" and \"stroke\" is 0.13. This positive correlation indicates a weak positive relationship between average glucose levels and the likelihood of having a stroke.\r\n",
    "\r\n",
    "BMI vs. Stroke: The correlation coefficient between \"bmi\" and \"stroke\" is 0.042. This positive correlation suggests a weak positive relationship between BMI and the likelihood of having a stroke."
   ]
  },
  {
   "cell_type": "markdown",
   "id": "2e8e7fc4-3fb7-4e6c-881e-538c64dfe12d",
   "metadata": {},
   "source": []
  },
  {
   "cell_type": "markdown",
   "id": "ab062e78-81e7-4e51-9a22-fe6b307d26f9",
   "metadata": {},
   "source": [
    "### Check if “BMI” column has null values? what is the percentage of null values ? use data engineering method to fill the null values."
   ]
  },
  {
   "cell_type": "code",
   "execution_count": 21,
   "id": "0125c538-1ffd-40c5-9ba2-0b15b79a2aa0",
   "metadata": {},
   "outputs": [
    {
     "name": "stdout",
     "output_type": "stream",
     "text": [
      "Number of null values in 'BMI' column:201\n",
      "Percentage of null values in 'BMI' column: 3.93%\n"
     ]
    }
   ],
   "source": [
    "bmi_null_count = df['bmi'].isnull().sum()\n",
    "\n",
    "total_rows = df.shape[0]\n",
    "percentage_null_values = (bmi_null_count / total_rows) * 100\n",
    "\n",
    "\n",
    "print(f\"Number of null values in 'BMI' column:{bmi_null_count}\")\n",
    "print(f\"Percentage of null values in 'BMI' column: {percentage_null_values:.2f}%\")"
   ]
  },
  {
   "cell_type": "code",
   "execution_count": 22,
   "id": "1381c3ab-d95a-4bb4-ab47-9e61298f4d01",
   "metadata": {},
   "outputs": [
    {
     "data": {
      "text/plain": [
       "28.893236911794666"
      ]
     },
     "execution_count": 22,
     "metadata": {},
     "output_type": "execute_result"
    }
   ],
   "source": [
    "mean_bmi = df['bmi'].mean()\n",
    "mean_bmi"
   ]
  },
  {
   "cell_type": "code",
   "execution_count": 23,
   "id": "75dae2ad-9489-4618-a0b8-5273e8d2bb74",
   "metadata": {},
   "outputs": [
    {
     "data": {
      "text/plain": [
       "count    4909.000000\n",
       "mean       28.893237\n",
       "std         7.854067\n",
       "min        10.300000\n",
       "25%        23.500000\n",
       "50%        28.100000\n",
       "75%        33.100000\n",
       "max        97.600000\n",
       "Name: bmi, dtype: float64"
      ]
     },
     "execution_count": 23,
     "metadata": {},
     "output_type": "execute_result"
    }
   ],
   "source": [
    "df['bmi'].describe()"
   ]
  },
  {
   "cell_type": "code",
   "execution_count": 24,
   "id": "1fdb4ac1-bb08-4500-9512-f65fcfab9f79",
   "metadata": {},
   "outputs": [],
   "source": [
    "df['bmi'].fillna(mean_bmi, inplace=True)"
   ]
  },
  {
   "cell_type": "code",
   "execution_count": 25,
   "id": "a7bedde1-1580-4abe-8a5b-6e6216927b18",
   "metadata": {},
   "outputs": [
    {
     "data": {
      "text/plain": [
       "count    5110.000000\n",
       "mean       28.893237\n",
       "std         7.698018\n",
       "min        10.300000\n",
       "25%        23.800000\n",
       "50%        28.400000\n",
       "75%        32.800000\n",
       "max        97.600000\n",
       "Name: bmi, dtype: float64"
      ]
     },
     "execution_count": 25,
     "metadata": {},
     "output_type": "execute_result"
    }
   ],
   "source": [
    "df['bmi'].describe()"
   ]
  },
  {
   "cell_type": "markdown",
   "id": "433ebbbc-3451-4a6a-bd3e-cb4afa5ea44c",
   "metadata": {},
   "source": []
  },
  {
   "cell_type": "markdown",
   "id": "793180ff-feac-4660-b5e5-b7d4ce7356db",
   "metadata": {},
   "source": [
    "## Remove outliers from any two numerical columns \n",
    "### Formula Z-score = |(x-mean)/std|"
   ]
  },
  {
   "cell_type": "code",
   "execution_count": 26,
   "id": "7f9cd6bf-080f-4145-bbd2-853bc2c246d6",
   "metadata": {},
   "outputs": [
    {
     "data": {
      "text/html": [
       "<div>\n",
       "<style scoped>\n",
       "    .dataframe tbody tr th:only-of-type {\n",
       "        vertical-align: middle;\n",
       "    }\n",
       "\n",
       "    .dataframe tbody tr th {\n",
       "        vertical-align: top;\n",
       "    }\n",
       "\n",
       "    .dataframe thead th {\n",
       "        text-align: right;\n",
       "    }\n",
       "</style>\n",
       "<table border=\"1\" class=\"dataframe\">\n",
       "  <thead>\n",
       "    <tr style=\"text-align: right;\">\n",
       "      <th></th>\n",
       "      <th>id</th>\n",
       "      <th>gender</th>\n",
       "      <th>age</th>\n",
       "      <th>hypertension</th>\n",
       "      <th>heart_disease</th>\n",
       "      <th>ever_married</th>\n",
       "      <th>work_type</th>\n",
       "      <th>Residence_type</th>\n",
       "      <th>avg_glucose_level</th>\n",
       "      <th>bmi</th>\n",
       "      <th>smoking_status</th>\n",
       "      <th>stroke</th>\n",
       "    </tr>\n",
       "  </thead>\n",
       "  <tbody>\n",
       "    <tr>\n",
       "      <th>0</th>\n",
       "      <td>9046</td>\n",
       "      <td>Male</td>\n",
       "      <td>67.0</td>\n",
       "      <td>0</td>\n",
       "      <td>1</td>\n",
       "      <td>Yes</td>\n",
       "      <td>Private</td>\n",
       "      <td>Urban</td>\n",
       "      <td>228.69</td>\n",
       "      <td>36.600000</td>\n",
       "      <td>formerly smoked</td>\n",
       "      <td>1</td>\n",
       "    </tr>\n",
       "    <tr>\n",
       "      <th>1</th>\n",
       "      <td>51676</td>\n",
       "      <td>Female</td>\n",
       "      <td>61.0</td>\n",
       "      <td>0</td>\n",
       "      <td>0</td>\n",
       "      <td>Yes</td>\n",
       "      <td>Self-employed</td>\n",
       "      <td>Rural</td>\n",
       "      <td>202.21</td>\n",
       "      <td>28.893237</td>\n",
       "      <td>never smoked</td>\n",
       "      <td>1</td>\n",
       "    </tr>\n",
       "    <tr>\n",
       "      <th>2</th>\n",
       "      <td>31112</td>\n",
       "      <td>Male</td>\n",
       "      <td>80.0</td>\n",
       "      <td>0</td>\n",
       "      <td>1</td>\n",
       "      <td>Yes</td>\n",
       "      <td>Private</td>\n",
       "      <td>Rural</td>\n",
       "      <td>105.92</td>\n",
       "      <td>32.500000</td>\n",
       "      <td>never smoked</td>\n",
       "      <td>1</td>\n",
       "    </tr>\n",
       "    <tr>\n",
       "      <th>3</th>\n",
       "      <td>60182</td>\n",
       "      <td>Female</td>\n",
       "      <td>49.0</td>\n",
       "      <td>0</td>\n",
       "      <td>0</td>\n",
       "      <td>Yes</td>\n",
       "      <td>Private</td>\n",
       "      <td>Urban</td>\n",
       "      <td>171.23</td>\n",
       "      <td>34.400000</td>\n",
       "      <td>smokes</td>\n",
       "      <td>1</td>\n",
       "    </tr>\n",
       "    <tr>\n",
       "      <th>4</th>\n",
       "      <td>1665</td>\n",
       "      <td>Female</td>\n",
       "      <td>79.0</td>\n",
       "      <td>1</td>\n",
       "      <td>0</td>\n",
       "      <td>Yes</td>\n",
       "      <td>Self-employed</td>\n",
       "      <td>Rural</td>\n",
       "      <td>174.12</td>\n",
       "      <td>24.000000</td>\n",
       "      <td>never smoked</td>\n",
       "      <td>1</td>\n",
       "    </tr>\n",
       "  </tbody>\n",
       "</table>\n",
       "</div>"
      ],
      "text/plain": [
       "      id  gender   age  hypertension  heart_disease ever_married  \\\n",
       "0   9046    Male  67.0             0              1          Yes   \n",
       "1  51676  Female  61.0             0              0          Yes   \n",
       "2  31112    Male  80.0             0              1          Yes   \n",
       "3  60182  Female  49.0             0              0          Yes   \n",
       "4   1665  Female  79.0             1              0          Yes   \n",
       "\n",
       "       work_type Residence_type  avg_glucose_level        bmi  \\\n",
       "0        Private          Urban             228.69  36.600000   \n",
       "1  Self-employed          Rural             202.21  28.893237   \n",
       "2        Private          Rural             105.92  32.500000   \n",
       "3        Private          Urban             171.23  34.400000   \n",
       "4  Self-employed          Rural             174.12  24.000000   \n",
       "\n",
       "    smoking_status  stroke  \n",
       "0  formerly smoked       1  \n",
       "1     never smoked       1  \n",
       "2     never smoked       1  \n",
       "3           smokes       1  \n",
       "4     never smoked       1  "
      ]
     },
     "execution_count": 26,
     "metadata": {},
     "output_type": "execute_result"
    }
   ],
   "source": [
    "df.head()"
   ]
  },
  {
   "cell_type": "code",
   "execution_count": 27,
   "id": "254e1c61-8bdc-4939-8e7b-f2d8e84b8b6c",
   "metadata": {},
   "outputs": [
    {
     "data": {
      "image/png": "[encoded data removed]",
      "text/plain": [
       "<Figure size 1000x600 with 2 Axes>"
      ]
     },
     "metadata": {},
     "output_type": "display_data"
    }
   ],
   "source": [
    "numeric_columns = ['bmi', 'avg_glucose_level']\n",
    "\n",
    "plt.figure(figsize=(10, 6))\n",
    "for i, column in enumerate(numeric_columns, 1):\n",
    "    plt.subplot(1, 2, i)\n",
    "    sns.boxplot(x=df[column], color='skyblue')\n",
    "    plt.xlabel(column)\n",
    "plt.tight_layout()\n",
    "plt.show()"
   ]
  },
  {
   "cell_type": "code",
   "execution_count": 28,
   "id": "9d73bf9f-ad65-4a4e-8a42-0733258b318b",
   "metadata": {},
   "outputs": [],
   "source": [
    "\n",
    "def remove_outliers_zscore(data, column, threshold=1):\n",
    "    z_scores = np.abs((data[column] - data[column].mean()) / data[column].std())\n",
    "    return data[z_scores <= threshold]\n",
    "\n",
    "for column in numeric_columns:\n",
    "    df = remove_outliers_zscore(df, column)\n",
    "\n"
   ]
  },
  {
   "cell_type": "code",
   "execution_count": 29,
   "id": "710ebfc5-f397-4088-8d44-ed3ede2eb3d7",
   "metadata": {},
   "outputs": [
    {
     "data": {
      "image/png": "[encoded data removed]",
      "text/plain": [
       "<Figure size 1000x600 with 2 Axes>"
      ]
     },
     "metadata": {},
     "output_type": "display_data"
    }
   ],
   "source": [
    "plt.figure(figsize=(10, 6))\n",
    "for i, column in enumerate(numeric_columns, 1):\n",
    "    plt.subplot(1, 2, i)\n",
    "    sns.boxplot(x=df[column], color='skyblue')\n",
    "    plt.xlabel(column)\n",
    "plt.tight_layout()\n",
    "plt.show()"
   ]
  },
  {
   "cell_type": "code",
   "execution_count": 30,
   "id": "43e35d83-1056-40e6-964a-b40cb2c6dfdd",
   "metadata": {},
   "outputs": [
    {
     "data": {
      "text/html": [
       "<div>\n",
       "<style scoped>\n",
       "    .dataframe tbody tr th:only-of-type {\n",
       "        vertical-align: middle;\n",
       "    }\n",
       "\n",
       "    .dataframe tbody tr th {\n",
       "        vertical-align: top;\n",
       "    }\n",
       "\n",
       "    .dataframe thead th {\n",
       "        text-align: right;\n",
       "    }\n",
       "</style>\n",
       "<table border=\"1\" class=\"dataframe\">\n",
       "  <thead>\n",
       "    <tr style=\"text-align: right;\">\n",
       "      <th></th>\n",
       "      <th>id</th>\n",
       "      <th>gender</th>\n",
       "      <th>age</th>\n",
       "      <th>hypertension</th>\n",
       "      <th>heart_disease</th>\n",
       "      <th>ever_married</th>\n",
       "      <th>work_type</th>\n",
       "      <th>Residence_type</th>\n",
       "      <th>avg_glucose_level</th>\n",
       "      <th>bmi</th>\n",
       "      <th>smoking_status</th>\n",
       "      <th>stroke</th>\n",
       "    </tr>\n",
       "  </thead>\n",
       "  <tbody>\n",
       "    <tr>\n",
       "      <th>2</th>\n",
       "      <td>31112</td>\n",
       "      <td>Male</td>\n",
       "      <td>80.0</td>\n",
       "      <td>0</td>\n",
       "      <td>1</td>\n",
       "      <td>Yes</td>\n",
       "      <td>Private</td>\n",
       "      <td>Rural</td>\n",
       "      <td>105.92</td>\n",
       "      <td>32.500000</td>\n",
       "      <td>never smoked</td>\n",
       "      <td>1</td>\n",
       "    </tr>\n",
       "    <tr>\n",
       "      <th>6</th>\n",
       "      <td>53882</td>\n",
       "      <td>Male</td>\n",
       "      <td>74.0</td>\n",
       "      <td>1</td>\n",
       "      <td>1</td>\n",
       "      <td>Yes</td>\n",
       "      <td>Private</td>\n",
       "      <td>Rural</td>\n",
       "      <td>70.09</td>\n",
       "      <td>27.400000</td>\n",
       "      <td>never smoked</td>\n",
       "      <td>1</td>\n",
       "    </tr>\n",
       "    <tr>\n",
       "      <th>7</th>\n",
       "      <td>10434</td>\n",
       "      <td>Female</td>\n",
       "      <td>69.0</td>\n",
       "      <td>0</td>\n",
       "      <td>0</td>\n",
       "      <td>No</td>\n",
       "      <td>Private</td>\n",
       "      <td>Urban</td>\n",
       "      <td>94.39</td>\n",
       "      <td>22.800000</td>\n",
       "      <td>never smoked</td>\n",
       "      <td>1</td>\n",
       "    </tr>\n",
       "    <tr>\n",
       "      <th>8</th>\n",
       "      <td>27419</td>\n",
       "      <td>Female</td>\n",
       "      <td>59.0</td>\n",
       "      <td>0</td>\n",
       "      <td>0</td>\n",
       "      <td>Yes</td>\n",
       "      <td>Private</td>\n",
       "      <td>Rural</td>\n",
       "      <td>76.15</td>\n",
       "      <td>28.893237</td>\n",
       "      <td>Unknown</td>\n",
       "      <td>1</td>\n",
       "    </tr>\n",
       "    <tr>\n",
       "      <th>10</th>\n",
       "      <td>12109</td>\n",
       "      <td>Female</td>\n",
       "      <td>81.0</td>\n",
       "      <td>1</td>\n",
       "      <td>0</td>\n",
       "      <td>Yes</td>\n",
       "      <td>Private</td>\n",
       "      <td>Rural</td>\n",
       "      <td>80.43</td>\n",
       "      <td>29.700000</td>\n",
       "      <td>never smoked</td>\n",
       "      <td>1</td>\n",
       "    </tr>\n",
       "  </tbody>\n",
       "</table>\n",
       "</div>"
      ],
      "text/plain": [
       "       id  gender   age  hypertension  heart_disease ever_married work_type  \\\n",
       "2   31112    Male  80.0             0              1          Yes   Private   \n",
       "6   53882    Male  74.0             1              1          Yes   Private   \n",
       "7   10434  Female  69.0             0              0           No   Private   \n",
       "8   27419  Female  59.0             0              0          Yes   Private   \n",
       "10  12109  Female  81.0             1              0          Yes   Private   \n",
       "\n",
       "   Residence_type  avg_glucose_level        bmi smoking_status  stroke  \n",
       "2           Rural             105.92  32.500000   never smoked       1  \n",
       "6           Rural              70.09  27.400000   never smoked       1  \n",
       "7           Urban              94.39  22.800000   never smoked       1  \n",
       "8           Rural              76.15  28.893237        Unknown       1  \n",
       "10          Rural              80.43  29.700000   never smoked       1  "
      ]
     },
     "execution_count": 30,
     "metadata": {},
     "output_type": "execute_result"
    }
   ],
   "source": [
    "df.head()"
   ]
  },
  {
   "cell_type": "markdown",
   "id": "d76ceaa4-d4a8-4d60-b4cb-57ec0e55cc24",
   "metadata": {},
   "source": [
    "## Perform Scaling on all numerical columns"
   ]
  },
  {
   "cell_type": "code",
   "execution_count": 31,
   "id": "5c064db6-0ef2-474e-9d9b-3a874b5236fc",
   "metadata": {},
   "outputs": [
    {
     "data": {
      "text/html": [
       "<div>\n",
       "<style scoped>\n",
       "    .dataframe tbody tr th:only-of-type {\n",
       "        vertical-align: middle;\n",
       "    }\n",
       "\n",
       "    .dataframe tbody tr th {\n",
       "        vertical-align: top;\n",
       "    }\n",
       "\n",
       "    .dataframe thead th {\n",
       "        text-align: right;\n",
       "    }\n",
       "</style>\n",
       "<table border=\"1\" class=\"dataframe\">\n",
       "  <thead>\n",
       "    <tr style=\"text-align: right;\">\n",
       "      <th></th>\n",
       "      <th>id</th>\n",
       "      <th>age</th>\n",
       "      <th>hypertension</th>\n",
       "      <th>heart_disease</th>\n",
       "      <th>avg_glucose_level</th>\n",
       "      <th>bmi</th>\n",
       "      <th>stroke</th>\n",
       "    </tr>\n",
       "  </thead>\n",
       "  <tbody>\n",
       "    <tr>\n",
       "      <th>count</th>\n",
       "      <td>2965.000000</td>\n",
       "      <td>2965.000000</td>\n",
       "      <td>2965.000000</td>\n",
       "      <td>2965.000000</td>\n",
       "      <td>2965.000000</td>\n",
       "      <td>2965.000000</td>\n",
       "      <td>2965.000000</td>\n",
       "    </tr>\n",
       "    <tr>\n",
       "      <th>mean</th>\n",
       "      <td>34971.225295</td>\n",
       "      <td>45.458860</td>\n",
       "      <td>0.078921</td>\n",
       "      <td>0.049241</td>\n",
       "      <td>91.875514</td>\n",
       "      <td>28.110222</td>\n",
       "      <td>0.044182</td>\n",
       "    </tr>\n",
       "    <tr>\n",
       "      <th>std</th>\n",
       "      <td>21152.345352</td>\n",
       "      <td>20.411562</td>\n",
       "      <td>0.269660</td>\n",
       "      <td>0.216408</td>\n",
       "      <td>19.366129</td>\n",
       "      <td>3.922679</td>\n",
       "      <td>0.205534</td>\n",
       "    </tr>\n",
       "    <tr>\n",
       "      <th>min</th>\n",
       "      <td>67.000000</td>\n",
       "      <td>0.480000</td>\n",
       "      <td>0.000000</td>\n",
       "      <td>0.000000</td>\n",
       "      <td>60.910000</td>\n",
       "      <td>21.200000</td>\n",
       "      <td>0.000000</td>\n",
       "    </tr>\n",
       "    <tr>\n",
       "      <th>25%</th>\n",
       "      <td>16378.000000</td>\n",
       "      <td>29.000000</td>\n",
       "      <td>0.000000</td>\n",
       "      <td>0.000000</td>\n",
       "      <td>77.370000</td>\n",
       "      <td>24.900000</td>\n",
       "      <td>0.000000</td>\n",
       "    </tr>\n",
       "    <tr>\n",
       "      <th>50%</th>\n",
       "      <td>33960.000000</td>\n",
       "      <td>46.000000</td>\n",
       "      <td>0.000000</td>\n",
       "      <td>0.000000</td>\n",
       "      <td>89.030000</td>\n",
       "      <td>28.200000</td>\n",
       "      <td>0.000000</td>\n",
       "    </tr>\n",
       "    <tr>\n",
       "      <th>75%</th>\n",
       "      <td>53095.000000</td>\n",
       "      <td>61.000000</td>\n",
       "      <td>0.000000</td>\n",
       "      <td>0.000000</td>\n",
       "      <td>103.580000</td>\n",
       "      <td>31.000000</td>\n",
       "      <td>0.000000</td>\n",
       "    </tr>\n",
       "    <tr>\n",
       "      <th>max</th>\n",
       "      <td>72918.000000</td>\n",
       "      <td>82.000000</td>\n",
       "      <td>1.000000</td>\n",
       "      <td>1.000000</td>\n",
       "      <td>150.100000</td>\n",
       "      <td>36.500000</td>\n",
       "      <td>1.000000</td>\n",
       "    </tr>\n",
       "  </tbody>\n",
       "</table>\n",
       "</div>"
      ],
      "text/plain": [
       "                 id          age  hypertension  heart_disease  \\\n",
       "count   2965.000000  2965.000000   2965.000000    2965.000000   \n",
       "mean   34971.225295    45.458860      0.078921       0.049241   \n",
       "std    21152.345352    20.411562      0.269660       0.216408   \n",
       "min       67.000000     0.480000      0.000000       0.000000   \n",
       "25%    16378.000000    29.000000      0.000000       0.000000   \n",
       "50%    33960.000000    46.000000      0.000000       0.000000   \n",
       "75%    53095.000000    61.000000      0.000000       0.000000   \n",
       "max    72918.000000    82.000000      1.000000       1.000000   \n",
       "\n",
       "       avg_glucose_level          bmi       stroke  \n",
       "count        2965.000000  2965.000000  2965.000000  \n",
       "mean           91.875514    28.110222     0.044182  \n",
       "std            19.366129     3.922679     0.205534  \n",
       "min            60.910000    21.200000     0.000000  \n",
       "25%            77.370000    24.900000     0.000000  \n",
       "50%            89.030000    28.200000     0.000000  \n",
       "75%           103.580000    31.000000     0.000000  \n",
       "max           150.100000    36.500000     1.000000  "
      ]
     },
     "execution_count": 31,
     "metadata": {},
     "output_type": "execute_result"
    }
   ],
   "source": [
    "df.describe()"
   ]
  },
  {
   "cell_type": "code",
   "execution_count": 32,
   "id": "aba2a6ca-fe25-494f-8349-9b77aa72df58",
   "metadata": {},
   "outputs": [],
   "source": [
    "\n",
    "numeric_columns = df.select_dtypes(include=['int64', 'float64']).columns\n",
    "numeric_columns = numeric_columns.drop(['id'])\n",
    "\n",
    "\n",
    "scaler = StandardScaler()\n",
    "# scaler = MinMaxScaler()\n",
    "df[numeric_columns] = scaler.fit_transform(df[numeric_columns])\n"
   ]
  },
  {
   "cell_type": "code",
   "execution_count": 33,
   "id": "e5a6e8ef-7feb-402b-ad64-a98b3c0a0595",
   "metadata": {},
   "outputs": [
    {
     "data": {
      "text/html": [
       "<div>\n",
       "<style scoped>\n",
       "    .dataframe tbody tr th:only-of-type {\n",
       "        vertical-align: middle;\n",
       "    }\n",
       "\n",
       "    .dataframe tbody tr th {\n",
       "        vertical-align: top;\n",
       "    }\n",
       "\n",
       "    .dataframe thead th {\n",
       "        text-align: right;\n",
       "    }\n",
       "</style>\n",
       "<table border=\"1\" class=\"dataframe\">\n",
       "  <thead>\n",
       "    <tr style=\"text-align: right;\">\n",
       "      <th></th>\n",
       "      <th>id</th>\n",
       "      <th>age</th>\n",
       "      <th>hypertension</th>\n",
       "      <th>heart_disease</th>\n",
       "      <th>avg_glucose_level</th>\n",
       "      <th>bmi</th>\n",
       "      <th>stroke</th>\n",
       "    </tr>\n",
       "  </thead>\n",
       "  <tbody>\n",
       "    <tr>\n",
       "      <th>count</th>\n",
       "      <td>2965.000000</td>\n",
       "      <td>2.965000e+03</td>\n",
       "      <td>2.965000e+03</td>\n",
       "      <td>2.965000e+03</td>\n",
       "      <td>2.965000e+03</td>\n",
       "      <td>2.965000e+03</td>\n",
       "      <td>2.965000e+03</td>\n",
       "    </tr>\n",
       "    <tr>\n",
       "      <th>mean</th>\n",
       "      <td>34971.225295</td>\n",
       "      <td>-4.457368e-16</td>\n",
       "      <td>-2.875721e-17</td>\n",
       "      <td>-9.585737e-18</td>\n",
       "      <td>-2.899685e-16</td>\n",
       "      <td>-8.555270e-16</td>\n",
       "      <td>1.917147e-17</td>\n",
       "    </tr>\n",
       "    <tr>\n",
       "      <th>std</th>\n",
       "      <td>21152.345352</td>\n",
       "      <td>1.000169e+00</td>\n",
       "      <td>1.000169e+00</td>\n",
       "      <td>1.000169e+00</td>\n",
       "      <td>1.000169e+00</td>\n",
       "      <td>1.000169e+00</td>\n",
       "      <td>1.000169e+00</td>\n",
       "    </tr>\n",
       "    <tr>\n",
       "      <th>min</th>\n",
       "      <td>67.000000</td>\n",
       "      <td>-2.203969e+00</td>\n",
       "      <td>-2.927164e-01</td>\n",
       "      <td>-2.275773e-01</td>\n",
       "      <td>-1.599222e+00</td>\n",
       "      <td>-1.761905e+00</td>\n",
       "      <td>-2.149986e-01</td>\n",
       "    </tr>\n",
       "    <tr>\n",
       "      <th>25%</th>\n",
       "      <td>16378.000000</td>\n",
       "      <td>-8.064859e-01</td>\n",
       "      <td>-2.927164e-01</td>\n",
       "      <td>-2.275773e-01</td>\n",
       "      <td>-7.491410e-01</td>\n",
       "      <td>-8.185128e-01</td>\n",
       "      <td>-2.149986e-01</td>\n",
       "    </tr>\n",
       "    <tr>\n",
       "      <th>50%</th>\n",
       "      <td>33960.000000</td>\n",
       "      <td>2.651591e-02</td>\n",
       "      <td>-2.927164e-01</td>\n",
       "      <td>-2.275773e-01</td>\n",
       "      <td>-1.469573e-01</td>\n",
       "      <td>2.289085e-02</td>\n",
       "      <td>-2.149986e-01</td>\n",
       "    </tr>\n",
       "    <tr>\n",
       "      <th>75%</th>\n",
       "      <td>53095.000000</td>\n",
       "      <td>7.615175e-01</td>\n",
       "      <td>-2.927164e-01</td>\n",
       "      <td>-2.275773e-01</td>\n",
       "      <td>6.044811e-01</td>\n",
       "      <td>7.368091e-01</td>\n",
       "      <td>-2.149986e-01</td>\n",
       "    </tr>\n",
       "    <tr>\n",
       "      <th>max</th>\n",
       "      <td>72918.000000</td>\n",
       "      <td>1.790520e+00</td>\n",
       "      <td>3.416276e+00</td>\n",
       "      <td>4.394112e+00</td>\n",
       "      <td>3.007018e+00</td>\n",
       "      <td>2.139149e+00</td>\n",
       "      <td>4.651192e+00</td>\n",
       "    </tr>\n",
       "  </tbody>\n",
       "</table>\n",
       "</div>"
      ],
      "text/plain": [
       "                 id           age  hypertension  heart_disease  \\\n",
       "count   2965.000000  2.965000e+03  2.965000e+03   2.965000e+03   \n",
       "mean   34971.225295 -4.457368e-16 -2.875721e-17  -9.585737e-18   \n",
       "std    21152.345352  1.000169e+00  1.000169e+00   1.000169e+00   \n",
       "min       67.000000 -2.203969e+00 -2.927164e-01  -2.275773e-01   \n",
       "25%    16378.000000 -8.064859e-01 -2.927164e-01  -2.275773e-01   \n",
       "50%    33960.000000  2.651591e-02 -2.927164e-01  -2.275773e-01   \n",
       "75%    53095.000000  7.615175e-01 -2.927164e-01  -2.275773e-01   \n",
       "max    72918.000000  1.790520e+00  3.416276e+00   4.394112e+00   \n",
       "\n",
       "       avg_glucose_level           bmi        stroke  \n",
       "count       2.965000e+03  2.965000e+03  2.965000e+03  \n",
       "mean       -2.899685e-16 -8.555270e-16  1.917147e-17  \n",
       "std         1.000169e+00  1.000169e+00  1.000169e+00  \n",
       "min        -1.599222e+00 -1.761905e+00 -2.149986e-01  \n",
       "25%        -7.491410e-01 -8.185128e-01 -2.149986e-01  \n",
       "50%        -1.469573e-01  2.289085e-02 -2.149986e-01  \n",
       "75%         6.044811e-01  7.368091e-01 -2.149986e-01  \n",
       "max         3.007018e+00  2.139149e+00  4.651192e+00  "
      ]
     },
     "execution_count": 33,
     "metadata": {},
     "output_type": "execute_result"
    }
   ],
   "source": [
    "df.describe()"
   ]
  },
  {
   "cell_type": "markdown",
   "id": "363b95a1-e2a2-4eed-9ae5-b5df272afc6e",
   "metadata": {},
   "source": [
    "## Perform Encoding on all categorical columns"
   ]
  },
  {
   "cell_type": "markdown",
   "id": "1cee37eb-aa7d-46fe-b6d0-643db00c7038",
   "metadata": {},
   "source": [
    "#### One-Hot Encoding on Nominal data"
   ]
  },
  {
   "cell_type": "code",
   "execution_count": 34,
   "id": "672fa104-80da-4d30-ae3e-43af3f542ca8",
   "metadata": {},
   "outputs": [
    {
     "data": {
      "text/html": [
       "<div>\n",
       "<style scoped>\n",
       "    .dataframe tbody tr th:only-of-type {\n",
       "        vertical-align: middle;\n",
       "    }\n",
       "\n",
       "    .dataframe tbody tr th {\n",
       "        vertical-align: top;\n",
       "    }\n",
       "\n",
       "    .dataframe thead th {\n",
       "        text-align: right;\n",
       "    }\n",
       "</style>\n",
       "<table border=\"1\" class=\"dataframe\">\n",
       "  <thead>\n",
       "    <tr style=\"text-align: right;\">\n",
       "      <th></th>\n",
       "      <th>id</th>\n",
       "      <th>gender</th>\n",
       "      <th>age</th>\n",
       "      <th>hypertension</th>\n",
       "      <th>heart_disease</th>\n",
       "      <th>ever_married</th>\n",
       "      <th>work_type</th>\n",
       "      <th>Residence_type</th>\n",
       "      <th>avg_glucose_level</th>\n",
       "      <th>bmi</th>\n",
       "      <th>smoking_status</th>\n",
       "      <th>stroke</th>\n",
       "    </tr>\n",
       "  </thead>\n",
       "  <tbody>\n",
       "    <tr>\n",
       "      <th>2</th>\n",
       "      <td>31112</td>\n",
       "      <td>Male</td>\n",
       "      <td>1.692519</td>\n",
       "      <td>-0.292716</td>\n",
       "      <td>4.394112</td>\n",
       "      <td>Yes</td>\n",
       "      <td>Private</td>\n",
       "      <td>Rural</td>\n",
       "      <td>0.725331</td>\n",
       "      <td>1.119265</td>\n",
       "      <td>never smoked</td>\n",
       "      <td>4.651192</td>\n",
       "    </tr>\n",
       "    <tr>\n",
       "      <th>6</th>\n",
       "      <td>53882</td>\n",
       "      <td>Male</td>\n",
       "      <td>1.398519</td>\n",
       "      <td>3.416276</td>\n",
       "      <td>4.394112</td>\n",
       "      <td>Yes</td>\n",
       "      <td>Private</td>\n",
       "      <td>Rural</td>\n",
       "      <td>-1.125118</td>\n",
       "      <td>-0.181086</td>\n",
       "      <td>never smoked</td>\n",
       "      <td>4.651192</td>\n",
       "    </tr>\n",
       "    <tr>\n",
       "      <th>7</th>\n",
       "      <td>10434</td>\n",
       "      <td>Female</td>\n",
       "      <td>1.153518</td>\n",
       "      <td>-0.292716</td>\n",
       "      <td>-0.227577</td>\n",
       "      <td>No</td>\n",
       "      <td>Private</td>\n",
       "      <td>Urban</td>\n",
       "      <td>0.129861</td>\n",
       "      <td>-1.353952</td>\n",
       "      <td>never smoked</td>\n",
       "      <td>4.651192</td>\n",
       "    </tr>\n",
       "    <tr>\n",
       "      <th>8</th>\n",
       "      <td>27419</td>\n",
       "      <td>Female</td>\n",
       "      <td>0.663517</td>\n",
       "      <td>-0.292716</td>\n",
       "      <td>-0.227577</td>\n",
       "      <td>Yes</td>\n",
       "      <td>Private</td>\n",
       "      <td>Rural</td>\n",
       "      <td>-0.812148</td>\n",
       "      <td>0.199646</td>\n",
       "      <td>Unknown</td>\n",
       "      <td>4.651192</td>\n",
       "    </tr>\n",
       "    <tr>\n",
       "      <th>10</th>\n",
       "      <td>12109</td>\n",
       "      <td>Female</td>\n",
       "      <td>1.741520</td>\n",
       "      <td>3.416276</td>\n",
       "      <td>-0.227577</td>\n",
       "      <td>Yes</td>\n",
       "      <td>Private</td>\n",
       "      <td>Rural</td>\n",
       "      <td>-0.591107</td>\n",
       "      <td>0.405347</td>\n",
       "      <td>never smoked</td>\n",
       "      <td>4.651192</td>\n",
       "    </tr>\n",
       "  </tbody>\n",
       "</table>\n",
       "</div>"
      ],
      "text/plain": [
       "       id  gender       age  hypertension  heart_disease ever_married  \\\n",
       "2   31112    Male  1.692519     -0.292716       4.394112          Yes   \n",
       "6   53882    Male  1.398519      3.416276       4.394112          Yes   \n",
       "7   10434  Female  1.153518     -0.292716      -0.227577           No   \n",
       "8   27419  Female  0.663517     -0.292716      -0.227577          Yes   \n",
       "10  12109  Female  1.741520      3.416276      -0.227577          Yes   \n",
       "\n",
       "   work_type Residence_type  avg_glucose_level       bmi smoking_status  \\\n",
       "2    Private          Rural           0.725331  1.119265   never smoked   \n",
       "6    Private          Rural          -1.125118 -0.181086   never smoked   \n",
       "7    Private          Urban           0.129861 -1.353952   never smoked   \n",
       "8    Private          Rural          -0.812148  0.199646        Unknown   \n",
       "10   Private          Rural          -0.591107  0.405347   never smoked   \n",
       "\n",
       "      stroke  \n",
       "2   4.651192  \n",
       "6   4.651192  \n",
       "7   4.651192  \n",
       "8   4.651192  \n",
       "10  4.651192  "
      ]
     },
     "execution_count": 34,
     "metadata": {},
     "output_type": "execute_result"
    }
   ],
   "source": [
    "df.head()"
   ]
  },
  {
   "cell_type": "code",
   "execution_count": 35,
   "id": "6d44f9f8-bf77-4dba-aae6-9cda3185fed4",
   "metadata": {},
   "outputs": [],
   "source": [
    "nominal_columns = ['gender', 'work_type', 'Residence_type', 'smoking_status']\n",
    "df = pd.get_dummies(df, columns=nominal_columns)"
   ]
  },
  {
   "cell_type": "code",
   "execution_count": 36,
   "id": "40472084-67fa-444f-bbfa-eb10b0356a52",
   "metadata": {},
   "outputs": [
    {
     "data": {
      "text/html": [
       "<div>\n",
       "<style scoped>\n",
       "    .dataframe tbody tr th:only-of-type {\n",
       "        vertical-align: middle;\n",
       "    }\n",
       "\n",
       "    .dataframe tbody tr th {\n",
       "        vertical-align: top;\n",
       "    }\n",
       "\n",
       "    .dataframe thead th {\n",
       "        text-align: right;\n",
       "    }\n",
       "</style>\n",
       "<table border=\"1\" class=\"dataframe\">\n",
       "  <thead>\n",
       "    <tr style=\"text-align: right;\">\n",
       "      <th></th>\n",
       "      <th>id</th>\n",
       "      <th>age</th>\n",
       "      <th>hypertension</th>\n",
       "      <th>heart_disease</th>\n",
       "      <th>ever_married</th>\n",
       "      <th>avg_glucose_level</th>\n",
       "      <th>bmi</th>\n",
       "      <th>stroke</th>\n",
       "      <th>gender_Female</th>\n",
       "      <th>gender_Male</th>\n",
       "      <th>...</th>\n",
       "      <th>work_type_Never_worked</th>\n",
       "      <th>work_type_Private</th>\n",
       "      <th>work_type_Self-employed</th>\n",
       "      <th>work_type_children</th>\n",
       "      <th>Residence_type_Rural</th>\n",
       "      <th>Residence_type_Urban</th>\n",
       "      <th>smoking_status_Unknown</th>\n",
       "      <th>smoking_status_formerly smoked</th>\n",
       "      <th>smoking_status_never smoked</th>\n",
       "      <th>smoking_status_smokes</th>\n",
       "    </tr>\n",
       "  </thead>\n",
       "  <tbody>\n",
       "    <tr>\n",
       "      <th>2</th>\n",
       "      <td>31112</td>\n",
       "      <td>1.692519</td>\n",
       "      <td>-0.292716</td>\n",
       "      <td>4.394112</td>\n",
       "      <td>Yes</td>\n",
       "      <td>0.725331</td>\n",
       "      <td>1.119265</td>\n",
       "      <td>4.651192</td>\n",
       "      <td>False</td>\n",
       "      <td>True</td>\n",
       "      <td>...</td>\n",
       "      <td>False</td>\n",
       "      <td>True</td>\n",
       "      <td>False</td>\n",
       "      <td>False</td>\n",
       "      <td>True</td>\n",
       "      <td>False</td>\n",
       "      <td>False</td>\n",
       "      <td>False</td>\n",
       "      <td>True</td>\n",
       "      <td>False</td>\n",
       "    </tr>\n",
       "    <tr>\n",
       "      <th>6</th>\n",
       "      <td>53882</td>\n",
       "      <td>1.398519</td>\n",
       "      <td>3.416276</td>\n",
       "      <td>4.394112</td>\n",
       "      <td>Yes</td>\n",
       "      <td>-1.125118</td>\n",
       "      <td>-0.181086</td>\n",
       "      <td>4.651192</td>\n",
       "      <td>False</td>\n",
       "      <td>True</td>\n",
       "      <td>...</td>\n",
       "      <td>False</td>\n",
       "      <td>True</td>\n",
       "      <td>False</td>\n",
       "      <td>False</td>\n",
       "      <td>True</td>\n",
       "      <td>False</td>\n",
       "      <td>False</td>\n",
       "      <td>False</td>\n",
       "      <td>True</td>\n",
       "      <td>False</td>\n",
       "    </tr>\n",
       "    <tr>\n",
       "      <th>7</th>\n",
       "      <td>10434</td>\n",
       "      <td>1.153518</td>\n",
       "      <td>-0.292716</td>\n",
       "      <td>-0.227577</td>\n",
       "      <td>No</td>\n",
       "      <td>0.129861</td>\n",
       "      <td>-1.353952</td>\n",
       "      <td>4.651192</td>\n",
       "      <td>True</td>\n",
       "      <td>False</td>\n",
       "      <td>...</td>\n",
       "      <td>False</td>\n",
       "      <td>True</td>\n",
       "      <td>False</td>\n",
       "      <td>False</td>\n",
       "      <td>False</td>\n",
       "      <td>True</td>\n",
       "      <td>False</td>\n",
       "      <td>False</td>\n",
       "      <td>True</td>\n",
       "      <td>False</td>\n",
       "    </tr>\n",
       "    <tr>\n",
       "      <th>8</th>\n",
       "      <td>27419</td>\n",
       "      <td>0.663517</td>\n",
       "      <td>-0.292716</td>\n",
       "      <td>-0.227577</td>\n",
       "      <td>Yes</td>\n",
       "      <td>-0.812148</td>\n",
       "      <td>0.199646</td>\n",
       "      <td>4.651192</td>\n",
       "      <td>True</td>\n",
       "      <td>False</td>\n",
       "      <td>...</td>\n",
       "      <td>False</td>\n",
       "      <td>True</td>\n",
       "      <td>False</td>\n",
       "      <td>False</td>\n",
       "      <td>True</td>\n",
       "      <td>False</td>\n",
       "      <td>True</td>\n",
       "      <td>False</td>\n",
       "      <td>False</td>\n",
       "      <td>False</td>\n",
       "    </tr>\n",
       "    <tr>\n",
       "      <th>10</th>\n",
       "      <td>12109</td>\n",
       "      <td>1.741520</td>\n",
       "      <td>3.416276</td>\n",
       "      <td>-0.227577</td>\n",
       "      <td>Yes</td>\n",
       "      <td>-0.591107</td>\n",
       "      <td>0.405347</td>\n",
       "      <td>4.651192</td>\n",
       "      <td>True</td>\n",
       "      <td>False</td>\n",
       "      <td>...</td>\n",
       "      <td>False</td>\n",
       "      <td>True</td>\n",
       "      <td>False</td>\n",
       "      <td>False</td>\n",
       "      <td>True</td>\n",
       "      <td>False</td>\n",
       "      <td>False</td>\n",
       "      <td>False</td>\n",
       "      <td>True</td>\n",
       "      <td>False</td>\n",
       "    </tr>\n",
       "  </tbody>\n",
       "</table>\n",
       "<p>5 rows × 22 columns</p>\n",
       "</div>"
      ],
      "text/plain": [
       "       id       age  hypertension  heart_disease ever_married  \\\n",
       "2   31112  1.692519     -0.292716       4.394112          Yes   \n",
       "6   53882  1.398519      3.416276       4.394112          Yes   \n",
       "7   10434  1.153518     -0.292716      -0.227577           No   \n",
       "8   27419  0.663517     -0.292716      -0.227577          Yes   \n",
       "10  12109  1.741520      3.416276      -0.227577          Yes   \n",
       "\n",
       "    avg_glucose_level       bmi    stroke  gender_Female  gender_Male  ...  \\\n",
       "2            0.725331  1.119265  4.651192          False         True  ...   \n",
       "6           -1.125118 -0.181086  4.651192          False         True  ...   \n",
       "7            0.129861 -1.353952  4.651192           True        False  ...   \n",
       "8           -0.812148  0.199646  4.651192           True        False  ...   \n",
       "10          -0.591107  0.405347  4.651192           True        False  ...   \n",
       "\n",
       "    work_type_Never_worked  work_type_Private  work_type_Self-employed  \\\n",
       "2                    False               True                    False   \n",
       "6                    False               True                    False   \n",
       "7                    False               True                    False   \n",
       "8                    False               True                    False   \n",
       "10                   False               True                    False   \n",
       "\n",
       "    work_type_children  Residence_type_Rural  Residence_type_Urban  \\\n",
       "2                False                  True                 False   \n",
       "6                False                  True                 False   \n",
       "7                False                 False                  True   \n",
       "8                False                  True                 False   \n",
       "10               False                  True                 False   \n",
       "\n",
       "    smoking_status_Unknown  smoking_status_formerly smoked  \\\n",
       "2                    False                           False   \n",
       "6                    False                           False   \n",
       "7                    False                           False   \n",
       "8                     True                           False   \n",
       "10                   False                           False   \n",
       "\n",
       "    smoking_status_never smoked  smoking_status_smokes  \n",
       "2                          True                  False  \n",
       "6                          True                  False  \n",
       "7                          True                  False  \n",
       "8                         False                  False  \n",
       "10                         True                  False  \n",
       "\n",
       "[5 rows x 22 columns]"
      ]
     },
     "execution_count": 36,
     "metadata": {},
     "output_type": "execute_result"
    }
   ],
   "source": [
    "df.head()"
   ]
  },
  {
   "cell_type": "markdown",
   "id": "a48d6bc1-cff8-4dd1-a233-5b590b0d7be1",
   "metadata": {},
   "source": [
    "#### label-Encoding"
   ]
  },
  {
   "cell_type": "code",
   "execution_count": 37,
   "id": "ba415cf0-f11a-4ce1-96a0-c3a2f22fbfa8",
   "metadata": {},
   "outputs": [
    {
     "name": "stdout",
     "output_type": "stream",
     "text": [
      "   ever_married  ever_married_encoded\n",
      "2           Yes                     1\n",
      "6           Yes                     1\n",
      "7            No                     0\n",
      "8           Yes                     1\n",
      "10          Yes                     1\n"
     ]
    }
   ],
   "source": [
    "\n",
    "label_encoder = LabelEncoder()\n",
    "df['ever_married_encoded'] = label_encoder.fit_transform(df['ever_married'])\n",
    "\n",
    "# Display the encoded DataFrame\n",
    "print(df[['ever_married', 'ever_married_encoded']].head(5))\n"
   ]
  },
  {
   "cell_type": "markdown",
   "id": "d2142f36-0485-4ee1-974c-314a90ca4316",
   "metadata": {},
   "source": [
    "## Generate at least 2 new features using existing features of your choice"
   ]
  },
  {
   "cell_type": "code",
   "execution_count": 38,
   "id": "35e066dc-c8e1-456e-863e-d46b5ff80eb8",
   "metadata": {},
   "outputs": [
    {
     "name": "stdout",
     "output_type": "stream",
     "text": [
      "         bmi       age  bmi_age_ratio\n",
      "2   1.119265  1.692519       0.661301\n",
      "6  -0.181086  1.398519      -0.129484\n",
      "7  -1.353952  1.153518      -1.173758\n",
      "8   0.199646  0.663517       0.300890\n",
      "10  0.405347  1.741520       0.232755\n"
     ]
    }
   ],
   "source": [
    "df['bmi_age_ratio'] = df['bmi'] / df['age']\n",
    "print(df[['bmi', 'age', 'bmi_age_ratio']].head())\n"
   ]
  },
  {
   "cell_type": "code",
   "execution_count": 39,
   "id": "d3ff2a17-b7e6-4d73-8907-4ffba763b992",
   "metadata": {},
   "outputs": [
    {
     "name": "stdout",
     "output_type": "stream",
     "text": [
      "         bmi       age  avg_glucose_bmi_ratio\n",
      "2   1.119265  1.692519               0.648042\n",
      "6  -0.181086  1.398519               6.213179\n",
      "7  -1.353952  1.153518              -0.095913\n",
      "8   0.199646  0.663517              -4.067941\n",
      "10  0.405347  1.741520              -1.458273\n"
     ]
    }
   ],
   "source": [
    "df['avg_glucose_bmi_ratio'] = df['avg_glucose_level'] / df['bmi']\n",
    "print(df[['bmi', 'age', 'avg_glucose_bmi_ratio']].head())"
   ]
  }
 ],
 "metadata": {
  "kernelspec": {
   "display_name": "Python 3 (ipykernel)",
   "language": "python",
   "name": "python3"
  },
  "language_info": {
   "codemirror_mode": {
    "name": "ipython",
    "version": 3
   },
   "file_extension": ".py",
   "mimetype": "text/x-python",
   "name": "python",
   "nbconvert_exporter": "python",
   "pygments_lexer": "ipython3",
   "version": "3.10.11"
  }
 },
 "nbformat": 4,
 "nbformat_minor": 5
}
